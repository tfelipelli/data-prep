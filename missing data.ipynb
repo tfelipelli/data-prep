{
 "cells": [
  {
   "cell_type": "code",
   "execution_count": null,
   "metadata": {
    "collapsed": true
   },
   "outputs": [],
   "source": [
    "from sklearn.preprocessing import Imputer\n",
    "from sklearn.pipeline import Pipeline\n",
    "from sklearn.svm import SVC"
   ]
  },
  {
   "cell_type": "markdown",
   "metadata": {},
   "source": [
    "# imputing missing data"
   ]
  },
  {
   "cell_type": "code",
   "execution_count": null,
   "metadata": {
    "collapsed": true
   },
   "outputs": [],
   "source": [
    "* making an  educated guess about the missing  values\n",
    "* example: using the mean of the non-missing  entries"
   ]
  },
  {
   "cell_type": "code",
   "execution_count": null,
   "metadata": {
    "collapsed": true
   },
   "outputs": [],
   "source": [
    "imp =  Imputer(missing_values='NaN',  strategy='mean',  axis=0)\n",
    "imp.fit(X)\n",
    "X =  imp.transform(X)"
   ]
  },
  {
   "cell_type": "markdown",
   "metadata": {},
   "source": [
    "### imputing within a pipeline"
   ]
  },
  {
   "cell_type": "code",
   "execution_count": null,
   "metadata": {
    "collapsed": true
   },
   "outputs": [],
   "source": [
    "imp =  Imputer(missing_values='NaN',  strategy='mean',  axis=0)\n",
    "logreg =  LogisticRegression()\n",
    "steps =  [('imputation', imp), ('logistic_regression', logreg)]\n",
    "pipeline =  Pipeline(steps)"
   ]
  },
  {
   "cell_type": "code",
   "execution_count": null,
   "metadata": {
    "collapsed": true
   },
   "outputs": [],
   "source": [
    "X_train,  X_test, y_train,  y_test =  train_test_split(X, y,test_size=0.3,  random_state=42)\n",
    "pipeline.fit(X_train,  y_train)\n",
    "y_pred =  pipeline.predict(X_test)\n",
    "pipeline.score(X_test,  y_test)"
   ]
  },
  {
   "cell_type": "code",
   "execution_count": null,
   "metadata": {
    "collapsed": true
   },
   "outputs": [],
   "source": [
    "#setup the imputation transformer\n",
    "imp = Imputer(missing_values=\"NaN\", strategy=\"most_frequent\", axis=0)\n",
    "#instantiate the SVC classifier\n",
    "clf = SVC()\n",
    "\n",
    "#setup the pipeline with the required steps\n",
    "steps = [('imputation', imp), ('SVM', clf)]\n",
    "\n",
    "#create the pipeline\n",
    "pipeline = Pipeline(steps)\n",
    "\n",
    "#create training and test sets\n",
    "X_train, X_test, y_train, y_test = train_test_split(X, y,  test_size=0.3, random_state=42)\n",
    "\n",
    "#fit the pipeline to the train set\n",
    "pipeline.fit(X_train,y_train)\n",
    "\n",
    "#predict the labels of the test set\n",
    "y_pred = pipeline.predict(X_test)\n",
    "\n",
    "#print classification report\n",
    "print(classification_report(y_test, y_pred))"
   ]
  },
  {
   "cell_type": "markdown",
   "metadata": {},
   "source": [
    "# dropping missing data"
   ]
  },
  {
   "cell_type": "code",
   "execution_count": null,
   "metadata": {
    "collapsed": true
   },
   "outputs": [],
   "source": [
    "#replace zeros with NA\n",
    "df.bmi.replace(0, np.nan,  inplace=True)\n",
    "df [ df == \"?\"] = np.nan"
   ]
  },
  {
   "cell_type": "code",
   "execution_count": null,
   "metadata": {
    "collapsed": true
   },
   "outputs": [],
   "source": [
    "#drop NAs\n",
    "df = df.dropna()\n",
    "#might drop a lot or most of the data..."
   ]
  }
 ],
 "metadata": {
  "kernelspec": {
   "display_name": "Python 3",
   "language": "python",
   "name": "python3"
  },
  "language_info": {
   "codemirror_mode": {
    "name": "ipython",
    "version": 3
   },
   "file_extension": ".py",
   "mimetype": "text/x-python",
   "name": "python",
   "nbconvert_exporter": "python",
   "pygments_lexer": "ipython3",
   "version": "3.6.3"
  }
 },
 "nbformat": 4,
 "nbformat_minor": 2
}
