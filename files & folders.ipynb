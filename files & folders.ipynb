{
 "cells": [
  {
   "cell_type": "code",
   "execution_count": 16,
   "metadata": {},
   "outputs": [],
   "source": [
    "import os \n",
    "#the os module provides methods for file processing"
   ]
  },
  {
   "cell_type": "code",
   "execution_count": 29,
   "metadata": {},
   "outputs": [
    {
     "name": "stdout",
     "output_type": "stream",
     "text": [
      "Current Directory : C:\\Users\\tati\\Documents\\DSjedi\n"
     ]
    }
   ],
   "source": [
    "print(\"Current Directory :\", os.getcwd())  \n",
    "#display current directory"
   ]
  },
  {
   "cell_type": "code",
   "execution_count": 5,
   "metadata": {},
   "outputs": [
    {
     "name": "stdout",
     "output_type": "stream",
     "text": [
      "Pasta criada.\n"
     ]
    }
   ],
   "source": [
    "#creating folder structure\n",
    "try:\n",
    "    os.makedirs(\"data\")\n",
    "    print(\"Pasta criada.\")\n",
    "except OSError:\n",
    "    print(\"Pasta já existe!\")"
   ]
  },
  {
   "cell_type": "code",
   "execution_count": 10,
   "metadata": {},
   "outputs": [],
   "source": [
    "#create a folder\n",
    "os.mkdir(\"dir\")  "
   ]
  },
  {
   "cell_type": "code",
   "execution_count": 11,
   "metadata": {},
   "outputs": [],
   "source": [
    "#change folder you are @\n",
    "os.chdir(\"dir\") "
   ]
  },
  {
   "cell_type": "code",
   "execution_count": 12,
   "metadata": {},
   "outputs": [
    {
     "name": "stdout",
     "output_type": "stream",
     "text": [
      "Current Directory : C:\\Users\\tati\\Documents\\DSjedi\\dir\n"
     ]
    }
   ],
   "source": [
    "print(\"Current Directory :\", os.getcwd())  "
   ]
  },
  {
   "cell_type": "code",
   "execution_count": 13,
   "metadata": {},
   "outputs": [],
   "source": [
    "#delete folder, but 1st move back 1 folder\n",
    "os.chdir(\"..\")\n",
    "os.rmdir(\"dir\")"
   ]
  },
  {
   "cell_type": "code",
   "execution_count": 15,
   "metadata": {},
   "outputs": [],
   "source": [
    "#create or use an already created file with open\n",
    "with open(\"data.txt\", mode=\"w\", encoding=\"utf-8\") as file:\n",
    "#    open('nome_do_arquivo', 'w')  #apenas escrita, apaga tudo que tem no arquivo antes de escrever novamente    \n",
    "#    open('nome_do_arquivo', 'r')  #apenas leitura - padrão quando o modo é omitido\n",
    "#    open('nome_do_arquivo', 'r+') #leitura e escrita\n",
    "#    open('nome_do_arquivo', 'a')  #append, adiciona o que você quiser ao final do arquivo, sem apagar nada\n",
    "\n",
    "#writing on file #it doesn't add a newline\n",
    "    file.write(\"Some random text\\nMore random text\\nAnd some more\")"
   ]
  },
  {
   "cell_type": "code",
   "execution_count": 19,
   "metadata": {},
   "outputs": [],
   "source": [
    "#reading a file \n",
    "#you don't have to provide a mode because it is read by default\n",
    "with open(\"data.txt\", encoding=\"utf-8\") as file:\n",
    "    data = file.read() # reads everything into 1 string \n",
    "    #file.readline()  # reads everything including the first newline\n",
    "    #file.readlines() # returns a list of every line which includes each new line"
   ]
  },
  {
   "cell_type": "code",
   "execution_count": 21,
   "metadata": {},
   "outputs": [
    {
     "name": "stdout",
     "output_type": "stream",
     "text": [
      "Some random text\n",
      "More random text\n",
      "And some more\n"
     ]
    }
   ],
   "source": [
    "print(data)"
   ]
  },
  {
   "cell_type": "code",
   "execution_count": 22,
   "metadata": {},
   "outputs": [
    {
     "name": "stdout",
     "output_type": "stream",
     "text": [
      "True\n"
     ]
    }
   ],
   "source": [
    "#find out if the file is closed\n",
    "print(file.closed)  "
   ]
  },
  {
   "cell_type": "code",
   "execution_count": 23,
   "metadata": {},
   "outputs": [
    {
     "name": "stdout",
     "output_type": "stream",
     "text": [
      "data.txt\n"
     ]
    }
   ],
   "source": [
    "#get the file name\n",
    "print(file.name)  "
   ]
  },
  {
   "cell_type": "code",
   "execution_count": 24,
   "metadata": {},
   "outputs": [
    {
     "name": "stdout",
     "output_type": "stream",
     "text": [
      "r\n"
     ]
    }
   ],
   "source": [
    "#get the access mode of the file\n",
    "print(file.mode)  "
   ]
  },
  {
   "cell_type": "code",
   "execution_count": 25,
   "metadata": {},
   "outputs": [],
   "source": [
    "#rename file\n",
    "os.rename(\"data.txt\", \"bladata.txt\")"
   ]
  },
  {
   "cell_type": "code",
   "execution_count": 28,
   "metadata": {},
   "outputs": [],
   "source": [
    "#delete file\n",
    "os.remove(\"bladata.txt\")  "
   ]
  },
  {
   "cell_type": "code",
   "execution_count": null,
   "metadata": {},
   "outputs": [],
   "source": [
    "#criar / abrir CSV usando JSON\n",
    "with open('moedas.csv', 'w', encoding='utf-8') as f:\n",
    "    for moeda in json:\n",
    "        nome = moeda[\"name\"]\n",
    "        preco = moeda[\"price_brl\"]\n",
    "        valor_mercado = moeda[\"market_cap_brl\"]\n",
    "        em_circulacao = moeda[\"available_supply\"]\n",
    "        percentual_dia = moeda[\"percent_change_24h\"]\n",
    "        \n",
    "        f.write('{0}|{1}|{2}|{3}|{4}\\n'.format(nome, preco, percentual_dia, em_circulacao,valor_mercado))"
   ]
  },
  {
   "cell_type": "code",
   "execution_count": null,
   "metadata": {},
   "outputs": [],
   "source": [
    "#ler CSV e imprimir linhas na tela      \n",
    "with open('moedas.csv', 'r') as r:\n",
    "    for line in r:\n",
    "        print(line) "
   ]
  }
 ],
 "metadata": {
  "kernelspec": {
   "display_name": "Python 3",
   "language": "python",
   "name": "python3"
  },
  "language_info": {
   "codemirror_mode": {
    "name": "ipython",
    "version": 3
   },
   "file_extension": ".py",
   "mimetype": "text/x-python",
   "name": "python",
   "nbconvert_exporter": "python",
   "pygments_lexer": "ipython3",
   "version": "3.6.4"
  }
 },
 "nbformat": 4,
 "nbformat_minor": 2
}
